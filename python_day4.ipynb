{
  "nbformat": 4,
  "nbformat_minor": 0,
  "metadata": {
    "colab": {
      "name": "python day4.ipynb",
      "provenance": [],
      "collapsed_sections": [],
      "authorship_tag": "ABX9TyOrejoIiEpLg5e/EcFBHUiE",
      "include_colab_link": true
    },
    "kernelspec": {
      "name": "python3",
      "display_name": "Python 3"
    },
    "language_info": {
      "name": "python"
    }
  },
  "cells": [
    {
      "cell_type": "markdown",
      "metadata": {
        "id": "view-in-github",
        "colab_type": "text"
      },
      "source": [
        "<a href=\"https://colab.research.google.com/github/thiyyagurapadmavathi/python-tutorials/blob/main/python_day4.ipynb\" target=\"_parent\"><img src=\"https://colab.research.google.com/assets/colab-badge.svg\" alt=\"Open In Colab\"/></a>"
      ]
    },
    {
      "cell_type": "code",
      "metadata": {
        "colab": {
          "base_uri": "https://localhost:8080/"
        },
        "id": "duBnc3Rt-Qh0",
        "outputId": "4ffbae5b-52bb-465c-a027-4e80225336bd"
      },
      "source": [
        "n=int(input(\"entaer a value:\"))\n",
        "for i in range(2,n):\n",
        "    if n%i==0:\n",
        "       print(\" not prime\")\n",
        "       break\n",
        "else:\n",
        "    print(\"prime\")"
      ],
      "execution_count": null,
      "outputs": [
        {
          "output_type": "stream",
          "text": [
            "entaer a value:10\n",
            " not prime\n"
          ],
          "name": "stdout"
        }
      ]
    },
    {
      "cell_type": "code",
      "metadata": {
        "colab": {
          "base_uri": "https://localhost:8080/"
        },
        "id": "C6t1IrNR_7iF",
        "outputId": "3ec47756-3445-41f2-d6ae-6516e6065a47"
      },
      "source": [
        "n=int(input(\"entaer a value:\"))\n",
        "for j in range(1,n+1):\n",
        "    for i in range(2,j):\n",
        "        if j%i==0:\n",
        "           break\n",
        "    else:\n",
        "        print(j)   \n",
        "       "
      ],
      "execution_count": null,
      "outputs": [
        {
          "output_type": "stream",
          "text": [
            "entaer a value:10\n",
            "1\n",
            "2\n",
            "3\n",
            "5\n",
            "7\n"
          ],
          "name": "stdout"
        }
      ]
    },
    {
      "cell_type": "markdown",
      "metadata": {
        "id": "x7Og1kAbx7Bf"
      },
      "source": [
        "ARRAY IN PYTHON"
      ]
    },
    {
      "cell_type": "code",
      "metadata": {
        "colab": {
          "base_uri": "https://localhost:8080/"
        },
        "id": "6Btotllsx-tp",
        "outputId": "2b550292-bb4a-45b0-8715-fe4c480055c7"
      },
      "source": [
        "from array import *\n",
        "values=array('i',[2,3,5,1,6])\n",
        "print(values)"
      ],
      "execution_count": null,
      "outputs": [
        {
          "output_type": "stream",
          "text": [
            "array('i', [2, 3, 5, 1, 6])\n"
          ],
          "name": "stdout"
        }
      ]
    },
    {
      "cell_type": "code",
      "metadata": {
        "colab": {
          "base_uri": "https://localhost:8080/"
        },
        "id": "XB44STzy0rkf",
        "outputId": "4e133934-d9bb-4d80-a94d-34d4c9ebf829"
      },
      "source": [
        "values=array('i',[2,3,-5,1,6])\n",
        "print(values)"
      ],
      "execution_count": null,
      "outputs": [
        {
          "output_type": "stream",
          "text": [
            "array('i', [2, 3, -5, 1, 6])\n"
          ],
          "name": "stdout"
        }
      ]
    },
    {
      "cell_type": "code",
      "metadata": {
        "colab": {
          "base_uri": "https://localhost:8080/",
          "height": 180
        },
        "id": "BTbnw1us0y-j",
        "outputId": "0edcce35-b0a8-4097-a0b7-89f067aa5ffa"
      },
      "source": [
        "values=array('i',[2,3,5.2,'padma',6])  ##because array is of same type\n",
        "print(values)"
      ],
      "execution_count": null,
      "outputs": [
        {
          "output_type": "error",
          "ename": "TypeError",
          "evalue": "ignored",
          "traceback": [
            "\u001b[0;31m---------------------------------------------------------------------------\u001b[0m",
            "\u001b[0;31mTypeError\u001b[0m                                 Traceback (most recent call last)",
            "\u001b[0;32m<ipython-input-6-2323ea775638>\u001b[0m in \u001b[0;36m<module>\u001b[0;34m()\u001b[0m\n\u001b[0;32m----> 1\u001b[0;31m \u001b[0mvalues\u001b[0m\u001b[0;34m=\u001b[0m\u001b[0marray\u001b[0m\u001b[0;34m(\u001b[0m\u001b[0;34m'i'\u001b[0m\u001b[0;34m,\u001b[0m\u001b[0;34m[\u001b[0m\u001b[0;36m2\u001b[0m\u001b[0;34m,\u001b[0m\u001b[0;36m3\u001b[0m\u001b[0;34m,\u001b[0m\u001b[0;36m5.2\u001b[0m\u001b[0;34m,\u001b[0m\u001b[0;34m'padma'\u001b[0m\u001b[0;34m,\u001b[0m\u001b[0;36m6\u001b[0m\u001b[0;34m]\u001b[0m\u001b[0;34m)\u001b[0m\u001b[0;34m\u001b[0m\u001b[0;34m\u001b[0m\u001b[0m\n\u001b[0m\u001b[1;32m      2\u001b[0m \u001b[0mprint\u001b[0m\u001b[0;34m(\u001b[0m\u001b[0mvalues\u001b[0m\u001b[0;34m)\u001b[0m\u001b[0;34m\u001b[0m\u001b[0;34m\u001b[0m\u001b[0m\n",
            "\u001b[0;31mTypeError\u001b[0m: integer argument expected, got float"
          ]
        }
      ]
    },
    {
      "cell_type": "code",
      "metadata": {
        "colab": {
          "base_uri": "https://localhost:8080/"
        },
        "id": "wQ_ZB5E90_7E",
        "outputId": "91671f7d-a86c-44f0-a008-2a255abd0b4a"
      },
      "source": [
        "values=array('i',[2,3,5,1,6])\n",
        "values.reverse()\n",
        "print(values)"
      ],
      "execution_count": null,
      "outputs": [
        {
          "output_type": "stream",
          "text": [
            "array('i', [6, 1, 5, 3, 2])\n"
          ],
          "name": "stdout"
        }
      ]
    },
    {
      "cell_type": "code",
      "metadata": {
        "colab": {
          "base_uri": "https://localhost:8080/"
        },
        "id": "OSvOn2rT_9Ev",
        "outputId": "10930561-348d-438a-fa3c-f62a4bcadfef"
      },
      "source": [
        "values=array([2,3,-5,1,6])\n",
        "print(values)"
      ],
      "execution_count": null,
      "outputs": [
        {
          "output_type": "stream",
          "text": [
            "[ 2  3 -5  1  6]\n"
          ],
          "name": "stdout"
        }
      ]
    },
    {
      "cell_type": "code",
      "metadata": {
        "colab": {
          "base_uri": "https://localhost:8080/",
          "height": 180
        },
        "id": "ukxVouYe1TN6",
        "outputId": "ae01c30f-2c97-4115-8bfc-e8a40be5e6f5"
      },
      "source": [
        "values=array('I',[2,3,-5,-1,6]) ## 'I' for unsingned print(values)"
      ],
      "execution_count": null,
      "outputs": [
        {
          "output_type": "error",
          "ename": "OverflowError",
          "evalue": "ignored",
          "traceback": [
            "\u001b[0;31m---------------------------------------------------------------------------\u001b[0m",
            "\u001b[0;31mOverflowError\u001b[0m                             Traceback (most recent call last)",
            "\u001b[0;32m<ipython-input-9-8f24a07968a6>\u001b[0m in \u001b[0;36m<module>\u001b[0;34m()\u001b[0m\n\u001b[0;32m----> 1\u001b[0;31m \u001b[0mvalues\u001b[0m\u001b[0;34m=\u001b[0m\u001b[0marray\u001b[0m\u001b[0;34m(\u001b[0m\u001b[0;34m'I'\u001b[0m\u001b[0;34m,\u001b[0m\u001b[0;34m[\u001b[0m\u001b[0;36m2\u001b[0m\u001b[0;34m,\u001b[0m\u001b[0;36m3\u001b[0m\u001b[0;34m,\u001b[0m\u001b[0;34m-\u001b[0m\u001b[0;36m5\u001b[0m\u001b[0;34m,\u001b[0m\u001b[0;34m-\u001b[0m\u001b[0;36m1\u001b[0m\u001b[0;34m,\u001b[0m\u001b[0;36m6\u001b[0m\u001b[0;34m]\u001b[0m\u001b[0;34m)\u001b[0m\u001b[0;34m\u001b[0m\u001b[0;34m\u001b[0m\u001b[0m\n\u001b[0m\u001b[1;32m      2\u001b[0m \u001b[0mprint\u001b[0m\u001b[0;34m(\u001b[0m\u001b[0mvalues\u001b[0m\u001b[0;34m)\u001b[0m\u001b[0;34m\u001b[0m\u001b[0;34m\u001b[0m\u001b[0m\n",
            "\u001b[0;31mOverflowError\u001b[0m: can't convert negative value to unsigned int"
          ]
        }
      ]
    },
    {
      "cell_type": "code",
      "metadata": {
        "colab": {
          "base_uri": "https://localhost:8080/"
        },
        "id": "L-mhOLEe1td8",
        "outputId": "86f3248c-b294-4a86-c856-024be0ab4002"
      },
      "source": [
        "values=array('i',[2,3,5,1,6])\n",
        "print(values[0])"
      ],
      "execution_count": null,
      "outputs": [
        {
          "output_type": "stream",
          "text": [
            "2\n"
          ],
          "name": "stdout"
        }
      ]
    },
    {
      "cell_type": "code",
      "metadata": {
        "colab": {
          "base_uri": "https://localhost:8080/"
        },
        "id": "mg-RR_wF10yZ",
        "outputId": "805f2ae2-a052-44b1-b2ef-fd49d32f0a3e"
      },
      "source": [
        "values=array('i',[2,3,5,1,6])\n",
        "print(values[0:])\n"
      ],
      "execution_count": null,
      "outputs": [
        {
          "output_type": "stream",
          "text": [
            "array('i', [2, 3, 5, 1, 6])\n"
          ],
          "name": "stdout"
        }
      ]
    },
    {
      "cell_type": "code",
      "metadata": {
        "colab": {
          "base_uri": "https://localhost:8080/"
        },
        "id": "6AJXuFYg161Z",
        "outputId": "0d60e2cc-3526-406e-c420-ad416bd72e7b"
      },
      "source": [
        "values=array('i',[2,3,5,1,6])\n",
        "for i in values :\n",
        "     print(i)"
      ],
      "execution_count": null,
      "outputs": [
        {
          "output_type": "stream",
          "text": [
            "2\n",
            "3\n",
            "5\n",
            "1\n",
            "6\n"
          ],
          "name": "stdout"
        }
      ]
    },
    {
      "cell_type": "code",
      "metadata": {
        "colab": {
          "base_uri": "https://localhost:8080/"
        },
        "id": "ojy5oMRh2bi8",
        "outputId": "d3ab0e1b-257f-4ce9-c7a6-d7dcac371027"
      },
      "source": [
        "values=array('i',[2,3,5,1,6])\n",
        "newarray=array(values.typecode,(a*a for a in values))\n",
        "for i in newarray: ##while i<len(newarray):\n",
        "    print(i)"
      ],
      "execution_count": null,
      "outputs": [
        {
          "output_type": "stream",
          "text": [
            "4\n",
            "9\n",
            "25\n",
            "1\n",
            "36\n"
          ],
          "name": "stdout"
        }
      ]
    },
    {
      "cell_type": "code",
      "metadata": {
        "colab": {
          "base_uri": "https://localhost:8080/"
        },
        "id": "ciO-C16G4CmA",
        "outputId": "ec42c525-a88b-44b4-d06a-ceae5599d04b"
      },
      "source": [
        "arr=array('i',[])\n",
        "n=int(input(\"enter the lenth of the array:\"))\n",
        "for i in range(n):\n",
        "    x=int(input(\"enter array element:\"))\n",
        "    arr.append(x)\n",
        "print(arr)"
      ],
      "execution_count": null,
      "outputs": [
        {
          "output_type": "stream",
          "text": [
            "enter the lenth of the array:5\n",
            "enter array element:23\n",
            "enter array element:10\n",
            "enter array element:45\n",
            "enter array element:12\n",
            "enter array element:24\n",
            "array('i', [23, 10, 45, 12, 24])\n"
          ],
          "name": "stdout"
        }
      ]
    },
    {
      "cell_type": "code",
      "metadata": {
        "colab": {
          "base_uri": "https://localhost:8080/"
        },
        "id": "aDtZD3sQ5NXt",
        "outputId": "c54b3233-70f0-4072-f0e1-bd0e9a1c95a7"
      },
      "source": [
        "arr=array('i',[])\n",
        "n=int(input(\"enter the lenth of the array:\"))\n",
        "for i in range(n):\n",
        "    x=int(input(\"enter array element:\"))\n",
        "    arr.append(x)\n",
        "print(arr)\n",
        "val=int(input(\"enter avalue to search:\"))\n",
        "k=0\n",
        "for e in arr:\n",
        "    if e==val:\n",
        "       print(k)\n",
        "       break\n",
        "    k+=1\n",
        "print(arr.index(val))\n"
      ],
      "execution_count": null,
      "outputs": [
        {
          "output_type": "stream",
          "text": [
            "enter the lenth of the array:4\n",
            "enter array element:1\n",
            "enter array element:2\n",
            "enter array element:3\n",
            "enter array element:4\n",
            "array('i', [1, 2, 3, 4])\n",
            "enter avalue to search:4\n",
            "3\n",
            "3\n"
          ],
          "name": "stdout"
        }
      ]
    },
    {
      "cell_type": "code",
      "metadata": {
        "colab": {
          "base_uri": "https://localhost:8080/",
          "height": 180
        },
        "id": "GxNyPmZg88R7",
        "outputId": "f20c60ad-b695-4ceb-fa0e-2e07d377a41c"
      },
      "source": [
        "arr=array('i',[1,2,3,4],[5,6,7,8])\n",
        "print(arr)"
      ],
      "execution_count": null,
      "outputs": [
        {
          "output_type": "error",
          "ename": "TypeError",
          "evalue": "ignored",
          "traceback": [
            "\u001b[0;31m---------------------------------------------------------------------------\u001b[0m",
            "\u001b[0;31mTypeError\u001b[0m                                 Traceback (most recent call last)",
            "\u001b[0;32m<ipython-input-22-f5f5c7cc5396>\u001b[0m in \u001b[0;36m<module>\u001b[0;34m()\u001b[0m\n\u001b[0;32m----> 1\u001b[0;31m \u001b[0marr\u001b[0m\u001b[0;34m=\u001b[0m\u001b[0marray\u001b[0m\u001b[0;34m(\u001b[0m\u001b[0;34m'i'\u001b[0m\u001b[0;34m,\u001b[0m\u001b[0;34m[\u001b[0m\u001b[0;36m1\u001b[0m\u001b[0;34m,\u001b[0m\u001b[0;36m2\u001b[0m\u001b[0;34m,\u001b[0m\u001b[0;36m3\u001b[0m\u001b[0;34m,\u001b[0m\u001b[0;36m4\u001b[0m\u001b[0;34m]\u001b[0m\u001b[0;34m,\u001b[0m\u001b[0;34m[\u001b[0m\u001b[0;36m5\u001b[0m\u001b[0;34m,\u001b[0m\u001b[0;36m6\u001b[0m\u001b[0;34m,\u001b[0m\u001b[0;36m7\u001b[0m\u001b[0;34m,\u001b[0m\u001b[0;36m8\u001b[0m\u001b[0;34m]\u001b[0m\u001b[0;34m)\u001b[0m\u001b[0;34m\u001b[0m\u001b[0;34m\u001b[0m\u001b[0m\n\u001b[0m\u001b[1;32m      2\u001b[0m \u001b[0mprint\u001b[0m\u001b[0;34m(\u001b[0m\u001b[0marr\u001b[0m\u001b[0;34m)\u001b[0m\u001b[0;34m\u001b[0m\u001b[0;34m\u001b[0m\u001b[0m\n",
            "\u001b[0;31mTypeError\u001b[0m: array() takes at most 2 arguments (3 given)"
          ]
        }
      ]
    },
    {
      "cell_type": "code",
      "metadata": {
        "colab": {
          "base_uri": "https://localhost:8080/"
        },
        "id": "KMB9jRTd98zB",
        "outputId": "05ed07ee-18a5-432d-c92c-58a1a71f80cf"
      },
      "source": [
        "pip install numpy"
      ],
      "execution_count": null,
      "outputs": [
        {
          "output_type": "stream",
          "text": [
            "Requirement already satisfied: numpy in /usr/local/lib/python3.7/dist-packages (1.19.5)\n"
          ],
          "name": "stdout"
        }
      ]
    },
    {
      "cell_type": "code",
      "metadata": {
        "colab": {
          "base_uri": "https://localhost:8080/",
          "height": 197
        },
        "id": "d0z3Jxhb9QHc",
        "outputId": "d036910d-5f78-457c-fb5b-e7ee4031f4af"
      },
      "source": [
        " import numpy\n",
        "arr=array([1,2,3,4],[5,6,7,8])\n",
        "print(arr)"
      ],
      "execution_count": null,
      "outputs": [
        {
          "output_type": "error",
          "ename": "TypeError",
          "evalue": "ignored",
          "traceback": [
            "\u001b[0;31m---------------------------------------------------------------------------\u001b[0m",
            "\u001b[0;31mTypeError\u001b[0m                                 Traceback (most recent call last)",
            "\u001b[0;32m<ipython-input-33-786ef603006f>\u001b[0m in \u001b[0;36m<module>\u001b[0;34m()\u001b[0m\n\u001b[1;32m      1\u001b[0m \u001b[0;32mimport\u001b[0m \u001b[0mnumpy\u001b[0m\u001b[0;34m\u001b[0m\u001b[0;34m\u001b[0m\u001b[0m\n\u001b[0;32m----> 2\u001b[0;31m \u001b[0marr\u001b[0m\u001b[0;34m=\u001b[0m\u001b[0marray\u001b[0m\u001b[0;34m(\u001b[0m\u001b[0;34m[\u001b[0m\u001b[0;36m1\u001b[0m\u001b[0;34m,\u001b[0m\u001b[0;36m2\u001b[0m\u001b[0;34m,\u001b[0m\u001b[0;36m3\u001b[0m\u001b[0;34m,\u001b[0m\u001b[0;36m4\u001b[0m\u001b[0;34m]\u001b[0m\u001b[0;34m,\u001b[0m\u001b[0;34m[\u001b[0m\u001b[0;36m5\u001b[0m\u001b[0;34m,\u001b[0m\u001b[0;36m6\u001b[0m\u001b[0;34m,\u001b[0m\u001b[0;36m7\u001b[0m\u001b[0;34m,\u001b[0m\u001b[0;36m8\u001b[0m\u001b[0;34m]\u001b[0m\u001b[0;34m)\u001b[0m\u001b[0;34m\u001b[0m\u001b[0;34m\u001b[0m\u001b[0m\n\u001b[0m\u001b[1;32m      3\u001b[0m \u001b[0mprint\u001b[0m\u001b[0;34m(\u001b[0m\u001b[0marr\u001b[0m\u001b[0;34m)\u001b[0m\u001b[0;34m\u001b[0m\u001b[0;34m\u001b[0m\u001b[0m\n",
            "\u001b[0;31mTypeError\u001b[0m: Field elements must be 2- or 3-tuples, got '5'"
          ]
        }
      ]
    },
    {
      "cell_type": "code",
      "metadata": {
        "colab": {
          "base_uri": "https://localhost:8080/"
        },
        "id": "qS3NQd7X_lRy",
        "outputId": "c84db4c3-e2bf-4335-f07a-18233734c424"
      },
      "source": [
        "arr=array([1,2,3,4,5.0])\n",
        "#print(arr.dtype)\n",
        "print(arr)"
      ],
      "execution_count": null,
      "outputs": [
        {
          "output_type": "stream",
          "text": [
            "[1. 2. 3. 4. 5.]\n"
          ],
          "name": "stdout"
        }
      ]
    },
    {
      "cell_type": "code",
      "metadata": {
        "colab": {
          "base_uri": "https://localhost:8080/"
        },
        "id": "MDAuqFRBAccs",
        "outputId": "8c7659a4-7354-4b07-fa51-bef5d957d033"
      },
      "source": [
        "arr=array([1,2,3,4,5.0],int)\n",
        "#print(arr.dtype)\n",
        "print(arr)"
      ],
      "execution_count": null,
      "outputs": [
        {
          "output_type": "stream",
          "text": [
            "[1 2 3 4 5]\n"
          ],
          "name": "stdout"
        }
      ]
    },
    {
      "cell_type": "code",
      "metadata": {
        "colab": {
          "base_uri": "https://localhost:8080/"
        },
        "id": "YoJG37gcBPiP",
        "outputId": "880a8865-f23c-405e-ca51-0614be18bc09"
      },
      "source": [
        "arr=linspace(0,16,15)\n",
        "print(arr)"
      ],
      "execution_count": null,
      "outputs": [
        {
          "output_type": "stream",
          "text": [
            "[ 0.          1.14285714  2.28571429  3.42857143  4.57142857  5.71428571\n",
            "  6.85714286  8.          9.14285714 10.28571429 11.42857143 12.57142857\n",
            " 13.71428571 14.85714286 16.        ]\n"
          ],
          "name": "stdout"
        }
      ]
    },
    {
      "cell_type": "code",
      "metadata": {
        "colab": {
          "base_uri": "https://localhost:8080/"
        },
        "id": "m650lHlJBXo8",
        "outputId": "c8193936-d5d9-4c08-bce1-882e000d4678"
      },
      "source": [
        "arr=arange(1,15,2)\n",
        "print(arr)"
      ],
      "execution_count": null,
      "outputs": [
        {
          "output_type": "stream",
          "text": [
            "[ 1  3  5  7  9 11 13]\n"
          ],
          "name": "stdout"
        }
      ]
    },
    {
      "cell_type": "code",
      "metadata": {
        "colab": {
          "base_uri": "https://localhost:8080/"
        },
        "id": "BW6ci2tkBk3J",
        "outputId": "444503e4-8d6f-4e91-ac48-e181757d8945"
      },
      "source": [
        "arr=logspace(1,40,5)\n",
        "print(arr)"
      ],
      "execution_count": null,
      "outputs": [
        {
          "output_type": "stream",
          "text": [
            "[1.00000000e+01 5.62341325e+10 3.16227766e+20 1.77827941e+30\n",
            " 1.00000000e+40]\n"
          ],
          "name": "stdout"
        }
      ]
    },
    {
      "cell_type": "code",
      "metadata": {
        "colab": {
          "base_uri": "https://localhost:8080/"
        },
        "id": "zZ789nGUBSWN",
        "outputId": "a87ad406-588d-4e54-9522-6c54c944a04f"
      },
      "source": [
        "##arr=zeros(5) \n",
        "arr=ones(5,int)\n",
        "print(arr)"
      ],
      "execution_count": null,
      "outputs": [
        {
          "output_type": "stream",
          "text": [
            "[1 1 1 1 1]\n"
          ],
          "name": "stdout"
        }
      ]
    },
    {
      "cell_type": "code",
      "metadata": {
        "colab": {
          "base_uri": "https://localhost:8080/"
        },
        "id": "vbjSghPUDo72",
        "outputId": "9698046f-2dff-4b39-b11d-332266437382"
      },
      "source": [
        "arr=array([1,2,3,4,5])\n",
        "arr1=array([6,7,8,9,10])\n",
        "print(sin(arr))\n",
        "print(sqrt(arr))\n",
        "print(log(arr))\n",
        "print(sum(arr))\n",
        "print(max(arr))\n",
        "print(min(arr))\n",
        "print(arr+arr1)\n",
        "print(concatenate([arr,arr1]))"
      ],
      "execution_count": null,
      "outputs": [
        {
          "output_type": "stream",
          "text": [
            "[ 0.84147098  0.90929743  0.14112001 -0.7568025  -0.95892427]\n",
            "[1.         1.41421356 1.73205081 2.         2.23606798]\n",
            "[0.         0.69314718 1.09861229 1.38629436 1.60943791]\n",
            "15\n",
            "5\n",
            "1\n",
            "[ 7  9 11 13 15]\n",
            "[ 1  2  3  4  5  6  7  8  9 10]\n"
          ],
          "name": "stdout"
        }
      ]
    },
    {
      "cell_type": "code",
      "metadata": {
        "colab": {
          "base_uri": "https://localhost:8080/"
        },
        "id": "jOzptRLaF-Vn",
        "outputId": "f636b460-c504-4030-fc7a-a53a4924d603"
      },
      "source": [
        "arr=array([1,2,3,4,5]) \n",
        "arr=arr1.view() ##creat an array af diffrent location \n",
        "print(arr)\n",
        "print(arr1) \n",
        "print(id(arr)) \n",
        "print(id(arr1))\n",
        "\n"
      ],
      "execution_count": null,
      "outputs": [
        {
          "output_type": "stream",
          "text": [
            "[ 6  7  8  9 10]\n",
            "[ 6  7  8  9 10]\n",
            "139946858410272\n",
            "139946858410752\n"
          ],
          "name": "stdout"
        }
      ]
    },
    {
      "cell_type": "code",
      "metadata": {
        "colab": {
          "base_uri": "https://localhost:8080/"
        },
        "id": "MY4K5B6WG2g0",
        "outputId": "5d6b4650-4ae3-4d4b-b08e-5f06b5b9aa9f"
      },
      "source": [
        "arr=array([1,2,3,4,5]) \n",
        "arr=arr1.view() ##creat an array af diffrent location\n",
        "arr1[1]=7 ## shallow copy\n",
        "print(arr)\n",
        "print(arr1) \n",
        "print(id(arr)) \n",
        "print(id(arr1))\n",
        "\n"
      ],
      "execution_count": null,
      "outputs": [
        {
          "output_type": "stream",
          "text": [
            "[ 6  7  8  9 10]\n",
            "[ 6  7  8  9 10]\n",
            "139946858210928\n",
            "139946858410752\n"
          ],
          "name": "stdout"
        }
      ]
    },
    {
      "cell_type": "code",
      "metadata": {
        "colab": {
          "base_uri": "https://localhost:8080/"
        },
        "id": "ahHFI-ZSHOV0",
        "outputId": "ed388af9-c437-4392-d603-efa152d5610a"
      },
      "source": [
        "arr=array([1,2,3,4,5]) \n",
        "arr=arr1.copy()#creat an array af diffrent location \n",
        "arr1[1]=7\n",
        "print(arr)\n",
        "print(arr1) \n",
        "print(id(arr)) \n",
        "print(id(arr1))"
      ],
      "execution_count": 67,
      "outputs": [
        {
          "output_type": "stream",
          "text": [
            "[ 6  7  8  9 10]\n",
            "[ 6  7  8  9 10]\n",
            "139946858717056\n",
            "139946858410752\n"
          ],
          "name": "stdout"
        }
      ]
    }
  ]
}