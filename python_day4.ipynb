{
  "nbformat": 4,
  "nbformat_minor": 0,
  "metadata": {
    "colab": {
      "name": "python day4.ipynb",
      "provenance": [],
      "collapsed_sections": [],
      "authorship_tag": "ABX9TyM/y3GtbDU8ao/CWKDSvPnX",
      "include_colab_link": true
    },
    "kernelspec": {
      "name": "python3",
      "display_name": "Python 3"
    },
    "language_info": {
      "name": "python"
    }
  },
  "cells": [
    {
      "cell_type": "markdown",
      "metadata": {
        "id": "view-in-github",
        "colab_type": "text"
      },
      "source": [
        "<a href=\"https://colab.research.google.com/github/thiyyagurapadmavathi/python-tutorials/blob/main/python_day4.ipynb\" target=\"_parent\"><img src=\"https://colab.research.google.com/assets/colab-badge.svg\" alt=\"Open In Colab\"/></a>"
      ]
    },
    {
      "cell_type": "code",
      "metadata": {
        "colab": {
          "base_uri": "https://localhost:8080/"
        },
        "id": "duBnc3Rt-Qh0",
        "outputId": "cd1992fb-db3d-4ea1-a97f-50c11103b46f"
      },
      "source": [
        "n=int(input(\"entaer a value:\"))\n",
        "for i in range(2,n):\n",
        "    if n%i==0:\n",
        "       print(\" not prime\")\n",
        "       break\n",
        "else:\n",
        "    print(\"prime\")"
      ],
      "execution_count": 1,
      "outputs": [
        {
          "output_type": "stream",
          "text": [
            "entaer a value:10\n",
            " not prime\n"
          ],
          "name": "stdout"
        }
      ]
    },
    {
      "cell_type": "code",
      "metadata": {
        "colab": {
          "base_uri": "https://localhost:8080/"
        },
        "id": "C6t1IrNR_7iF",
        "outputId": "d752f32d-102c-4bdf-b7af-18a959b79f87"
      },
      "source": [
        "n=int(input(\"entaer a value:\"))\n",
        "for j in range(1,n+1):\n",
        "    for i in range(2,j):\n",
        "        if j%i==0:\n",
        "           break\n",
        "    else:\n",
        "        print(j)   \n",
        "       "
      ],
      "execution_count": 2,
      "outputs": [
        {
          "output_type": "stream",
          "text": [
            "entaer a value:10\n",
            "1\n",
            "2\n",
            "3\n",
            "5\n",
            "7\n"
          ],
          "name": "stdout"
        }
      ]
    },
    {
      "cell_type": "markdown",
      "metadata": {
        "id": "x7Og1kAbx7Bf"
      },
      "source": [
        "ARRAY IN PYTHON"
      ]
    },
    {
      "cell_type": "code",
      "metadata": {
        "colab": {
          "base_uri": "https://localhost:8080/"
        },
        "id": "6Btotllsx-tp",
        "outputId": "07c7f6ee-ced3-4c0c-99c9-5c5918100969"
      },
      "source": [
        "from array import *\n",
        "values=array('i',[2,3,5,1,6])\n",
        "print(values)"
      ],
      "execution_count": 3,
      "outputs": [
        {
          "output_type": "stream",
          "text": [
            "array('i', [2, 3, 5, 1, 6])\n"
          ],
          "name": "stdout"
        }
      ]
    },
    {
      "cell_type": "code",
      "metadata": {
        "colab": {
          "base_uri": "https://localhost:8080/"
        },
        "id": "XB44STzy0rkf",
        "outputId": "25124ae6-5c65-4a9e-cf20-34c541b50a17"
      },
      "source": [
        "values=array('i',[2,3,-5,1,6])\n",
        "print(values)"
      ],
      "execution_count": 4,
      "outputs": [
        {
          "output_type": "stream",
          "text": [
            "array('i', [2, 3, -5, 1, 6])\n"
          ],
          "name": "stdout"
        }
      ]
    },
    {
      "cell_type": "code",
      "metadata": {
        "colab": {
          "base_uri": "https://localhost:8080/",
          "height": 180
        },
        "id": "BTbnw1us0y-j",
        "outputId": "749d8d68-e099-4020-a559-a8f67696452c"
      },
      "source": [
        "values=array('i',[2,3,5.2,'padma',6])  ##because array is of same type\n",
        "print(values)"
      ],
      "execution_count": 5,
      "outputs": [
        {
          "output_type": "error",
          "ename": "TypeError",
          "evalue": "ignored",
          "traceback": [
            "\u001b[0;31m---------------------------------------------------------------------------\u001b[0m",
            "\u001b[0;31mTypeError\u001b[0m                                 Traceback (most recent call last)",
            "\u001b[0;32m<ipython-input-5-4fceb42df26f>\u001b[0m in \u001b[0;36m<module>\u001b[0;34m()\u001b[0m\n\u001b[0;32m----> 1\u001b[0;31m \u001b[0mvalues\u001b[0m\u001b[0;34m=\u001b[0m\u001b[0marray\u001b[0m\u001b[0;34m(\u001b[0m\u001b[0;34m'i'\u001b[0m\u001b[0;34m,\u001b[0m\u001b[0;34m[\u001b[0m\u001b[0;36m2\u001b[0m\u001b[0;34m,\u001b[0m\u001b[0;36m3\u001b[0m\u001b[0;34m,\u001b[0m\u001b[0;36m5.2\u001b[0m\u001b[0;34m,\u001b[0m\u001b[0;34m'padma'\u001b[0m\u001b[0;34m,\u001b[0m\u001b[0;36m6\u001b[0m\u001b[0;34m]\u001b[0m\u001b[0;34m)\u001b[0m  \u001b[0;31m##because array is of same type\u001b[0m\u001b[0;34m\u001b[0m\u001b[0;34m\u001b[0m\u001b[0m\n\u001b[0m\u001b[1;32m      2\u001b[0m \u001b[0mprint\u001b[0m\u001b[0;34m(\u001b[0m\u001b[0mvalues\u001b[0m\u001b[0;34m)\u001b[0m\u001b[0;34m\u001b[0m\u001b[0;34m\u001b[0m\u001b[0m\n",
            "\u001b[0;31mTypeError\u001b[0m: integer argument expected, got float"
          ]
        }
      ]
    },
    {
      "cell_type": "code",
      "metadata": {
        "colab": {
          "base_uri": "https://localhost:8080/"
        },
        "id": "wQ_ZB5E90_7E",
        "outputId": "1ff799a9-4011-4325-bb17-2908544bd97e"
      },
      "source": [
        "values=array('i',[2,3,5,1,6])\n",
        "values.reverse()\n",
        "print(values)"
      ],
      "execution_count": 6,
      "outputs": [
        {
          "output_type": "stream",
          "text": [
            "array('i', [6, 1, 5, 3, 2])\n"
          ],
          "name": "stdout"
        }
      ]
    },
    {
      "cell_type": "code",
      "metadata": {
        "colab": {
          "base_uri": "https://localhost:8080/",
          "height": 180
        },
        "id": "OSvOn2rT_9Ev",
        "outputId": "82eb2bc9-8390-4f7d-eb4e-55f04bbf6c16"
      },
      "source": [
        "values=array([2,3,-5,1,6])\n",
        "print(values)"
      ],
      "execution_count": 7,
      "outputs": [
        {
          "output_type": "error",
          "ename": "TypeError",
          "evalue": "ignored",
          "traceback": [
            "\u001b[0;31m---------------------------------------------------------------------------\u001b[0m",
            "\u001b[0;31mTypeError\u001b[0m                                 Traceback (most recent call last)",
            "\u001b[0;32m<ipython-input-7-893392423937>\u001b[0m in \u001b[0;36m<module>\u001b[0;34m()\u001b[0m\n\u001b[0;32m----> 1\u001b[0;31m \u001b[0mvalues\u001b[0m\u001b[0;34m=\u001b[0m\u001b[0marray\u001b[0m\u001b[0;34m(\u001b[0m\u001b[0;34m[\u001b[0m\u001b[0;36m2\u001b[0m\u001b[0;34m,\u001b[0m\u001b[0;36m3\u001b[0m\u001b[0;34m,\u001b[0m\u001b[0;34m-\u001b[0m\u001b[0;36m5\u001b[0m\u001b[0;34m,\u001b[0m\u001b[0;36m1\u001b[0m\u001b[0;34m,\u001b[0m\u001b[0;36m6\u001b[0m\u001b[0;34m]\u001b[0m\u001b[0;34m)\u001b[0m\u001b[0;34m\u001b[0m\u001b[0;34m\u001b[0m\u001b[0m\n\u001b[0m\u001b[1;32m      2\u001b[0m \u001b[0mprint\u001b[0m\u001b[0;34m(\u001b[0m\u001b[0mvalues\u001b[0m\u001b[0;34m)\u001b[0m\u001b[0;34m\u001b[0m\u001b[0;34m\u001b[0m\u001b[0m\n",
            "\u001b[0;31mTypeError\u001b[0m: array() argument 1 must be a unicode character, not list"
          ]
        }
      ]
    },
    {
      "cell_type": "code",
      "metadata": {
        "colab": {
          "base_uri": "https://localhost:8080/",
          "height": 163
        },
        "id": "ukxVouYe1TN6",
        "outputId": "02706c80-c327-4a2a-bfaa-2615f0411ed8"
      },
      "source": [
        "values=array('I',[2,3,-5,-1,6]) ## 'I' for unsingned print(values)"
      ],
      "execution_count": 8,
      "outputs": [
        {
          "output_type": "error",
          "ename": "OverflowError",
          "evalue": "ignored",
          "traceback": [
            "\u001b[0;31m---------------------------------------------------------------------------\u001b[0m",
            "\u001b[0;31mOverflowError\u001b[0m                             Traceback (most recent call last)",
            "\u001b[0;32m<ipython-input-8-d3b9589ffbfc>\u001b[0m in \u001b[0;36m<module>\u001b[0;34m()\u001b[0m\n\u001b[0;32m----> 1\u001b[0;31m \u001b[0mvalues\u001b[0m\u001b[0;34m=\u001b[0m\u001b[0marray\u001b[0m\u001b[0;34m(\u001b[0m\u001b[0;34m'I'\u001b[0m\u001b[0;34m,\u001b[0m\u001b[0;34m[\u001b[0m\u001b[0;36m2\u001b[0m\u001b[0;34m,\u001b[0m\u001b[0;36m3\u001b[0m\u001b[0;34m,\u001b[0m\u001b[0;34m-\u001b[0m\u001b[0;36m5\u001b[0m\u001b[0;34m,\u001b[0m\u001b[0;34m-\u001b[0m\u001b[0;36m1\u001b[0m\u001b[0;34m,\u001b[0m\u001b[0;36m6\u001b[0m\u001b[0;34m]\u001b[0m\u001b[0;34m)\u001b[0m \u001b[0;31m## 'I' for unsingned print(values)\u001b[0m\u001b[0;34m\u001b[0m\u001b[0;34m\u001b[0m\u001b[0m\n\u001b[0m",
            "\u001b[0;31mOverflowError\u001b[0m: can't convert negative value to unsigned int"
          ]
        }
      ]
    },
    {
      "cell_type": "code",
      "metadata": {
        "colab": {
          "base_uri": "https://localhost:8080/"
        },
        "id": "L-mhOLEe1td8",
        "outputId": "58b82d76-7f71-4342-ecc7-f52e0cfaf6ab"
      },
      "source": [
        "values=array('i',[2,3,5,1,6])\n",
        "print(values[0])"
      ],
      "execution_count": 9,
      "outputs": [
        {
          "output_type": "stream",
          "text": [
            "2\n"
          ],
          "name": "stdout"
        }
      ]
    },
    {
      "cell_type": "code",
      "metadata": {
        "colab": {
          "base_uri": "https://localhost:8080/"
        },
        "id": "mg-RR_wF10yZ",
        "outputId": "8db859f1-482c-4905-d59c-459f56806544"
      },
      "source": [
        "values=array('i',[2,3,5,1,6])\n",
        "print(values[0:])\n"
      ],
      "execution_count": 11,
      "outputs": [
        {
          "output_type": "stream",
          "text": [
            "array('i', [2, 3, 5, 1, 6])\n"
          ],
          "name": "stdout"
        }
      ]
    },
    {
      "cell_type": "code",
      "metadata": {
        "colab": {
          "base_uri": "https://localhost:8080/"
        },
        "id": "6AJXuFYg161Z",
        "outputId": "9647a2a1-e05d-4880-f94a-b01c7d0f9ee0"
      },
      "source": [
        "values=array('i',[2,3,5,1,6])\n",
        "for i in values :\n",
        "     print(i)"
      ],
      "execution_count": 12,
      "outputs": [
        {
          "output_type": "stream",
          "text": [
            "2\n",
            "3\n",
            "5\n",
            "1\n",
            "6\n"
          ],
          "name": "stdout"
        }
      ]
    },
    {
      "cell_type": "code",
      "metadata": {
        "colab": {
          "base_uri": "https://localhost:8080/"
        },
        "id": "ojy5oMRh2bi8",
        "outputId": "245104d3-5f0f-4e94-9f4e-78b43e490f25"
      },
      "source": [
        "values=array('i',[2,3,5,1,6])\n",
        "newarray=array(values.typecode,(a*a for a in values))\n",
        "for i in newarray: ##while i<len(newarray):\n",
        "    print(i)"
      ],
      "execution_count": 13,
      "outputs": [
        {
          "output_type": "stream",
          "text": [
            "4\n",
            "9\n",
            "25\n",
            "1\n",
            "36\n"
          ],
          "name": "stdout"
        }
      ]
    },
    {
      "cell_type": "code",
      "metadata": {
        "colab": {
          "base_uri": "https://localhost:8080/"
        },
        "id": "ciO-C16G4CmA",
        "outputId": "0fe6d68b-cb0b-4d25-952e-ffbfe160bac1"
      },
      "source": [
        "arr=array('i',[])\n",
        "n=int(input(\"enter the lenth of the array:\"))\n",
        "for i in range(n):\n",
        "    x=int(input(\"enter array element:\"))\n",
        "    arr.append(x)\n",
        "print(arr)"
      ],
      "execution_count": 14,
      "outputs": [
        {
          "output_type": "stream",
          "text": [
            "enter the lenth of the array:5\n",
            "enter array element:1\n",
            "enter array element:2\n",
            "enter array element:3\n",
            "enter array element:4\n",
            "enter array element:5\n",
            "array('i', [1, 2, 3, 4, 5])\n"
          ],
          "name": "stdout"
        }
      ]
    },
    {
      "cell_type": "code",
      "metadata": {
        "colab": {
          "base_uri": "https://localhost:8080/"
        },
        "id": "aDtZD3sQ5NXt",
        "outputId": "29d2f2a6-96df-4ca1-9087-ccc1a9f76512"
      },
      "source": [
        "13arr=array('i',[])\n",
        "n=int(input(\"enter the lenth of the array:\"))\n",
        "for i in range(n):\n",
        "    x=int(input(\"enter array element:\"))\n",
        "    arr.append(x)\n",
        "print(arr)\n",
        "val=int(input(\"enter avalue to search:\"))\n",
        "k=0\n",
        "for e in arr:\n",
        "    if e==val:\n",
        "       print(k)\n",
        "       break\n",
        "    k+=1\n",
        "print(arr.index(val))\n"
      ],
      "execution_count": 15,
      "outputs": [
        {
          "output_type": "stream",
          "text": [
            "enter the lenth of the array:4\n",
            "enter array element:1\n",
            "enter array element:2\n",
            "enter array element:3\n",
            "enter array element:4\n",
            "array('i', [1, 2, 3, 4])\n",
            "enter avalue to search:2\n",
            "1\n",
            "1\n"
          ],
          "name": "stdout"
        }
      ]
    },
    {
      "cell_type": "code",
      "metadata": {
        "colab": {
          "base_uri": "https://localhost:8080/"
        },
        "id": "o9K3WAc-Mz7R",
        "outputId": "0acc954c-dcca-4e1d-de4e-17c45f69b754"
      },
      "source": [
        "pip install numpy"
      ],
      "execution_count": 21,
      "outputs": [
        {
          "output_type": "stream",
          "text": [
            "Requirement already satisfied: numpy in /usr/local/lib/python3.7/dist-packages (1.19.5)\n"
          ],
          "name": "stdout"
        }
      ]
    },
    {
      "cell_type": "code",
      "metadata": {
        "id": "qLKkaXxQM_kU"
      },
      "source": [
        "from numpy import *"
      ],
      "execution_count": 26,
      "outputs": []
    },
    {
      "cell_type": "code",
      "metadata": {
        "colab": {
          "base_uri": "https://localhost:8080/",
          "height": 180
        },
        "id": "GxNyPmZg88R7",
        "outputId": "8cb27367-957e-4d78-fe89-7f34bdfbeabe"
      },
      "source": [
        "arr=array('i',[1,2,3,4],[5,6,7,8])\n",
        "print(arr)"
      ],
      "execution_count": 27,
      "outputs": [
        {
          "output_type": "error",
          "ename": "TypeError",
          "evalue": "ignored",
          "traceback": [
            "\u001b[0;31m---------------------------------------------------------------------------\u001b[0m",
            "\u001b[0;31mTypeError\u001b[0m                                 Traceback (most recent call last)",
            "\u001b[0;32m<ipython-input-27-f5f5c7cc5396>\u001b[0m in \u001b[0;36m<module>\u001b[0;34m()\u001b[0m\n\u001b[0;32m----> 1\u001b[0;31m \u001b[0marr\u001b[0m\u001b[0;34m=\u001b[0m\u001b[0marray\u001b[0m\u001b[0;34m(\u001b[0m\u001b[0;34m'i'\u001b[0m\u001b[0;34m,\u001b[0m\u001b[0;34m[\u001b[0m\u001b[0;36m1\u001b[0m\u001b[0;34m,\u001b[0m\u001b[0;36m2\u001b[0m\u001b[0;34m,\u001b[0m\u001b[0;36m3\u001b[0m\u001b[0;34m,\u001b[0m\u001b[0;36m4\u001b[0m\u001b[0;34m]\u001b[0m\u001b[0;34m,\u001b[0m\u001b[0;34m[\u001b[0m\u001b[0;36m5\u001b[0m\u001b[0;34m,\u001b[0m\u001b[0;36m6\u001b[0m\u001b[0;34m,\u001b[0m\u001b[0;36m7\u001b[0m\u001b[0;34m,\u001b[0m\u001b[0;36m8\u001b[0m\u001b[0;34m]\u001b[0m\u001b[0;34m)\u001b[0m\u001b[0;34m\u001b[0m\u001b[0;34m\u001b[0m\u001b[0m\n\u001b[0m\u001b[1;32m      2\u001b[0m \u001b[0mprint\u001b[0m\u001b[0;34m(\u001b[0m\u001b[0marr\u001b[0m\u001b[0;34m)\u001b[0m\u001b[0;34m\u001b[0m\u001b[0;34m\u001b[0m\u001b[0m\n",
            "\u001b[0;31mTypeError\u001b[0m: array() takes from 1 to 2 positional arguments but 3 were given"
          ]
        }
      ]
    },
    {
      "cell_type": "code",
      "metadata": {
        "colab": {
          "base_uri": "https://localhost:8080/",
          "height": 197
        },
        "id": "d0z3Jxhb9QHc",
        "outputId": "ed4e2b79-8e27-4807-ae80-8adff2521c50"
      },
      "source": [
        " import numpy\n",
        "arr=array([1,2,3,4],[5,6,7,8])\n",
        "print(arr)"
      ],
      "execution_count": 28,
      "outputs": [
        {
          "output_type": "error",
          "ename": "TypeError",
          "evalue": "ignored",
          "traceback": [
            "\u001b[0;31m---------------------------------------------------------------------------\u001b[0m",
            "\u001b[0;31mTypeError\u001b[0m                                 Traceback (most recent call last)",
            "\u001b[0;32m<ipython-input-28-786ef603006f>\u001b[0m in \u001b[0;36m<module>\u001b[0;34m()\u001b[0m\n\u001b[1;32m      1\u001b[0m \u001b[0;32mimport\u001b[0m \u001b[0mnumpy\u001b[0m\u001b[0;34m\u001b[0m\u001b[0;34m\u001b[0m\u001b[0m\n\u001b[0;32m----> 2\u001b[0;31m \u001b[0marr\u001b[0m\u001b[0;34m=\u001b[0m\u001b[0marray\u001b[0m\u001b[0;34m(\u001b[0m\u001b[0;34m[\u001b[0m\u001b[0;36m1\u001b[0m\u001b[0;34m,\u001b[0m\u001b[0;36m2\u001b[0m\u001b[0;34m,\u001b[0m\u001b[0;36m3\u001b[0m\u001b[0;34m,\u001b[0m\u001b[0;36m4\u001b[0m\u001b[0;34m]\u001b[0m\u001b[0;34m,\u001b[0m\u001b[0;34m[\u001b[0m\u001b[0;36m5\u001b[0m\u001b[0;34m,\u001b[0m\u001b[0;36m6\u001b[0m\u001b[0;34m,\u001b[0m\u001b[0;36m7\u001b[0m\u001b[0;34m,\u001b[0m\u001b[0;36m8\u001b[0m\u001b[0;34m]\u001b[0m\u001b[0;34m)\u001b[0m\u001b[0;34m\u001b[0m\u001b[0;34m\u001b[0m\u001b[0m\n\u001b[0m\u001b[1;32m      3\u001b[0m \u001b[0mprint\u001b[0m\u001b[0;34m(\u001b[0m\u001b[0marr\u001b[0m\u001b[0;34m)\u001b[0m\u001b[0;34m\u001b[0m\u001b[0;34m\u001b[0m\u001b[0m\n",
            "\u001b[0;31mTypeError\u001b[0m: Field elements must be 2- or 3-tuples, got '5'"
          ]
        }
      ]
    },
    {
      "cell_type": "code",
      "metadata": {
        "colab": {
          "base_uri": "https://localhost:8080/"
        },
        "id": "qS3NQd7X_lRy",
        "outputId": "3dd6442d-f166-4bb4-8488-94a75e25a7a0"
      },
      "source": [
        "arr=array([1,2,3,4,5.0])\n",
        "print(arr.dtype)\n",
        "print(arr)"
      ],
      "execution_count": 29,
      "outputs": [
        {
          "output_type": "stream",
          "text": [
            "float64\n",
            "[1. 2. 3. 4. 5.]\n"
          ],
          "name": "stdout"
        }
      ]
    },
    {
      "cell_type": "code",
      "metadata": {
        "colab": {
          "base_uri": "https://localhost:8080/"
        },
        "id": "MDAuqFRBAccs",
        "outputId": "48a735e6-240a-489f-fed5-f598e12e726b"
      },
      "source": [
        "arr=array([1,2,3,4,5.0],int)\n",
        "#print(arr.dtype)\n",
        "print(arr)"
      ],
      "execution_count": 30,
      "outputs": [
        {
          "output_type": "stream",
          "text": [
            "[1 2 3 4 5]\n"
          ],
          "name": "stdout"
        }
      ]
    },
    {
      "cell_type": "code",
      "metadata": {
        "colab": {
          "base_uri": "https://localhost:8080/"
        },
        "id": "YoJG37gcBPiP",
        "outputId": "1a491430-030c-4cb9-ae68-6d6ab2e0a993"
      },
      "source": [
        "arr=linspace(0,16,15)\n",
        "print(arr)"
      ],
      "execution_count": 31,
      "outputs": [
        {
          "output_type": "stream",
          "text": [
            "[ 0.          1.14285714  2.28571429  3.42857143  4.57142857  5.71428571\n",
            "  6.85714286  8.          9.14285714 10.28571429 11.42857143 12.57142857\n",
            " 13.71428571 14.85714286 16.        ]\n"
          ],
          "name": "stdout"
        }
      ]
    },
    {
      "cell_type": "code",
      "metadata": {
        "colab": {
          "base_uri": "https://localhost:8080/"
        },
        "id": "m650lHlJBXo8",
        "outputId": "361109ab-43ee-41a9-c9d3-503308a7155d"
      },
      "source": [
        "arr=arange(1,15,2)\n",
        "print(arr)"
      ],
      "execution_count": 32,
      "outputs": [
        {
          "output_type": "stream",
          "text": [
            "[ 1  3  5  7  9 11 13]\n"
          ],
          "name": "stdout"
        }
      ]
    },
    {
      "cell_type": "code",
      "metadata": {
        "colab": {
          "base_uri": "https://localhost:8080/"
        },
        "id": "BW6ci2tkBk3J",
        "outputId": "37f59259-1968-4dab-88c5-5ed9fef434a7"
      },
      "source": [
        "arr=logspace(1,40,5)\n",
        "print(arr)"
      ],
      "execution_count": 33,
      "outputs": [
        {
          "output_type": "stream",
          "text": [
            "[1.00000000e+01 5.62341325e+10 3.16227766e+20 1.77827941e+30\n",
            " 1.00000000e+40]\n"
          ],
          "name": "stdout"
        }
      ]
    },
    {
      "cell_type": "code",
      "metadata": {
        "colab": {
          "base_uri": "https://localhost:8080/"
        },
        "id": "zZ789nGUBSWN",
        "outputId": "fd1429a3-ddda-43ba-989c-fddacc4e5d1f"
      },
      "source": [
        "##arr=zeros(5) \n",
        "arr=ones(5,int)\n",
        "print(arr)"
      ],
      "execution_count": 34,
      "outputs": [
        {
          "output_type": "stream",
          "text": [
            "[1 1 1 1 1]\n"
          ],
          "name": "stdout"
        }
      ]
    },
    {
      "cell_type": "code",
      "metadata": {
        "colab": {
          "base_uri": "https://localhost:8080/"
        },
        "id": "vbjSghPUDo72",
        "outputId": "e44f468a-4c1e-447d-a22c-003e10cc9e95"
      },
      "source": [
        "arr=array([1,2,3,4,5])\n",
        "arr1=array([6,7,8,9,10])\n",
        "print(sin(arr))\n",
        "print(sqrt(arr))\n",
        "print(log(arr))\n",
        "print(sum(arr))\n",
        "print(max(arr))\n",
        "print(min(arr))\n",
        "print(arr+arr1)\n",
        "print(concatenate([arr,arr1]))"
      ],
      "execution_count": 35,
      "outputs": [
        {
          "output_type": "stream",
          "text": [
            "[ 0.84147098  0.90929743  0.14112001 -0.7568025  -0.95892427]\n",
            "[1.         1.41421356 1.73205081 2.         2.23606798]\n",
            "[0.         0.69314718 1.09861229 1.38629436 1.60943791]\n",
            "15\n",
            "5\n",
            "1\n",
            "[ 7  9 11 13 15]\n",
            "[ 1  2  3  4  5  6  7  8  9 10]\n"
          ],
          "name": "stdout"
        }
      ]
    },
    {
      "cell_type": "code",
      "metadata": {
        "colab": {
          "base_uri": "https://localhost:8080/"
        },
        "id": "w5W-3JVdOo3I",
        "outputId": "963124d5-50a8-4d7a-97a0-4827dd541231"
      },
      "source": [
        "arr=array([1,2,3,4,5]) \n",
        "arr=arr1.view() ##creat an array af diffrent location \n",
        "print(arr)\n",
        "print(arr1) \n",
        "print(id(arr)) \n",
        "print(id(arr1))\n",
        "\n"
      ],
      "execution_count": 43,
      "outputs": [
        {
          "output_type": "stream",
          "text": [
            "[1 2 3 4 5]\n",
            "[1 2 3 4 5]\n",
            "140613786963440\n",
            "140613780468800\n"
          ],
          "name": "stdout"
        }
      ]
    },
    {
      "cell_type": "code",
      "metadata": {
        "colab": {
          "base_uri": "https://localhost:8080/"
        },
        "id": "ahHFI-ZSHOV0",
        "outputId": "1b6ab260-6c2b-47c5-d57a-825f2001cbe2"
      },
      "source": [
        "arr=array([1,2,3,4,5]) \n",
        "arr=arr1.copy() #creat an array af diffrent location \n",
        "arr1[1]=7\n",
        "print(arr)\n",
        "print(arr1) \n",
        "print(id(arr)) \n",
        "print(id(arr1))"
      ],
      "execution_count": 41,
      "outputs": [
        {
          "output_type": "stream",
          "text": [
            "[1 2 3 4 5]\n",
            "[1 7 3 4 5]\n",
            "140613780050688\n",
            "140613787747152\n"
          ],
          "name": "stdout"
        }
      ]
    },
    {
      "cell_type": "code",
      "metadata": {
        "colab": {
          "base_uri": "https://localhost:8080/"
        },
        "id": "MY4K5B6WG2g0",
        "outputId": "f8bb727e-9764-47f4-a46a-3425f12574d7"
      },
      "source": [
        "arr=array([1,2,3,4,5]) \n",
        "arr=arr1.view() ##creat an array af diffrent location\n",
        "arr1[1]=7 ## shallow copy\n",
        "print(arr)\n",
        "print(arr1) \n",
        "print(id(arr)) \n",
        "print(id(arr1))\n",
        "\n"
      ],
      "execution_count": 44,
      "outputs": [
        {
          "output_type": "stream",
          "text": [
            "[1 7 3 4 5]\n",
            "[1 7 3 4 5]\n",
            "140613786963440\n",
            "140613780468800\n"
          ],
          "name": "stdout"
        }
      ]
    }
  ]
}